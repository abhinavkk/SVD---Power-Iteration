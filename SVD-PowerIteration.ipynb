{
 "cells": [
  {
   "cell_type": "markdown",
   "metadata": {
    "id": "kLTpDVQk0ozE"
   },
   "source": [
    "# ECE 57000 Assignment 2 Exercises\n",
    "\n",
    "\n",
    "\n",
    "Name: "
   ]
  },
  {
   "cell_type": "markdown",
   "metadata": {
    "id": "JqJeDZYM1LbR"
   },
   "source": [
    "## Exercise 1 (10/100 points)\n",
    "\n",
    "In this exercise, you will need to write a simple function that reverses and doubles the values in a list. For example: input `[1,2,3]`, output `[6,4,2]`."
   ]
  },
  {
   "cell_type": "code",
   "execution_count": null,
   "metadata": {
    "id": "-kmPdZCA0uRl"
   },
   "outputs": [],
   "source": [
    "def reverse_double(input:list)->list:\n",
    "\n",
    "  # <YOUR CODE>\n",
    "\n",
    "\n",
    "A = [2,5,3,9,7]\n",
    "print(reverse_double(A))"
   ]
  },
  {
   "cell_type": "markdown",
   "metadata": {
    "id": "kBSX7VY10uvp"
   },
   "source": [
    "## Exercise 2 (20/100 points)\n",
    "In this exercise, you will need to help visualize several different distrubtions.\n",
    "\n",
    "### Task 1\n",
    "\n",
    "1.   Using numpy to generate a vector **D** with the following property:\n",
    "\n",
    "  *   Each element is in a normal distribution. \n",
    "  *   Vector has the shape **2000x1**\n",
    "\n",
    "2.   Reshape the vector **D** into **1000x2**\n",
    "\n",
    "3.   Plot the graph in the following way:\n",
    "  *   Create a figure of size 6 by 6\n",
    "  *   Treat the two columns of the array **D** as the **x** and **y** coordinates of 2D points. Use [scatter()](https://matplotlib.org/3.2.2/api/_as_gen/matplotlib.pyplot.scatter.html) to visualize all the spots and set the marker size to be 1\n",
    "  *   Let the plot shows the range `[-5,5]x[-5,5]`\n",
    "  *   Give the plot a title (indicating the shape of **D**), and also label the x-axis and y-axis \n",
    "\n",
    "**Note:** It is always important to include necessary information (e.g. label, legend, title) so that readers won't get confused.\n",
    "\n",
    "\n"
   ]
  },
  {
   "cell_type": "code",
   "execution_count": null,
   "metadata": {
    "id": "XLFvC76d6R6D"
   },
   "outputs": [],
   "source": [
    "import numpy as np\n",
    "import matplotlib.pyplot as plt\n",
    "\n",
    "#  <YOUR CODE>"
   ]
  },
  {
   "cell_type": "markdown",
   "metadata": {
    "id": "Q1HvCS16JFze"
   },
   "source": [
    "### Task 2\n",
    "\n",
    "1. Create an array **R** = $$\\begin{bmatrix} 0.25 & 0  \\\\ 0 & 1 \\\\  \\end{bmatrix}$$\n",
    "2. Compute **E** = **D** $\\times$ **R**.\n",
    "3. Repeat Step 3 above for **E**. (Title: shape of **E**)"
   ]
  },
  {
   "cell_type": "code",
   "execution_count": null,
   "metadata": {
    "id": "NT54YHtaKlrm"
   },
   "outputs": [],
   "source": [
    "#  <YOUR CODE>"
   ]
  },
  {
   "cell_type": "markdown",
   "metadata": {
    "id": "qzfsgTsLMvfT"
   },
   "source": [
    "### Task 3\n",
    "\n",
    "1. Create an array **R** = $$\\begin{bmatrix} \\sqrt(2)/2 & -\\sqrt(2)/2  \\\\ \\sqrt(2)/2 & \\sqrt(2)/2 \\\\  \\end{bmatrix}$$\n",
    "2. Compute **F** = **E** $\\times$ **R**.\n",
    "3. Repeat Step 3 above for **F**. (Title: shape of **F**)"
   ]
  },
  {
   "cell_type": "code",
   "execution_count": null,
   "metadata": {
    "id": "IF03LkqJMucG"
   },
   "outputs": [],
   "source": [
    "#  <YOUR CODE>"
   ]
  },
  {
   "cell_type": "markdown",
   "metadata": {
    "id": "ZCASvgVjLDEM"
   },
   "source": [
    "## Exercise 3 (70/100 points)\n",
    "\n",
    "### Task 1: Generate a sparse matrix\n",
    "\n",
    "1. Generate a matrix **X** with size 100x50 with each element randomly picked from a uniform distribution **U**[0,1].\n",
    "2. Use logical(boolean) indexing to set the elements in **X** to **0** whenever the value of the element is smaller than 0.85 (In this way, you should get the matrix to have roughly 85% of its elements zero's).\n",
    "3. Use the function [csr_matrix()](https://docs.scipy.org/doc/scipy/reference/generated/scipy.sparse.csr_matrix.html#scipy.sparse.csr_matrix) to convert the matrix **X** into sparse matrix and call it **X_sparse**.\n",
    "\n"
   ]
  },
  {
   "cell_type": "code",
   "execution_count": null,
   "metadata": {
    "id": "yDb3gdzwfmiY"
   },
   "outputs": [],
   "source": [
    "import numpy as np\n",
    "from scipy.sparse import csr_matrix\n",
    "\n",
    "#  <YOUR CODE>\n",
    "\n",
    "\n",
    "\n",
    "\n",
    "\n",
    "print(f'X has type {type(X)} and has {100-np.sum(X!=0)/50}% of zeros')\n",
    "print(f'X_sparse has type {type(X_sparse)} and has {100-np.sum(X_sparse!=0)/50}% of zeros')"
   ]
  },
  {
   "cell_type": "markdown",
   "metadata": {
    "id": "4sBEG0p_fm24"
   },
   "source": [
    "### Task 2: Construct the power iteration function\n",
    "\n",
    "Following the algorithm in the instructions notebook, write a function that takes a sparse matrix **X** and number of iterations as input and returns the top right singular vector of the centered matrix as output. We have provided some starter code and you need to fill in the rest."
   ]
  },
  {
   "cell_type": "code",
   "execution_count": null,
   "metadata": {
    "id": "SQKSkJ2ViC3t"
   },
   "outputs": [],
   "source": [
    "def power_iter(X, num_iter:int):\n",
    "   \n",
    "  v = np.random.randn(X.shape[1])  # Initialize with random vector with shape (d,)\n",
    "  one_vec = np.ones(X.shape[0])  # All ones vector with shape (n,)\n",
    "  mu_row_matrix = np.mean(X, axis=0)  # Returns a 1 row matrix with shape (d, 1) since X is of \"matrix\" type \n",
    "  mu = np.array(mu_row_matrix).squeeze()  # Convert from a sparse column matrix to a dense 1D array with shape (d,)\n",
    "  \n",
    "  #  <YOUR CODE>\n",
    "  \n",
    "\n",
    "v1_yours = power_iter(X_sparse,1000).squeeze()\n",
    "print(v1_yours.shape)"
   ]
  },
  {
   "cell_type": "markdown",
   "metadata": {
    "id": "TkwEgBmCjEs1"
   },
   "source": [
    "### Task 3: Verifying your top singular vector\n",
    "Using any method you like to verify the vector that is computed by your function is indeed the top right singular vector of the **centered** data matrix.\n",
    "First write another function that outputs the top right singular vector for sure (you can use the function [svd()](https://numpy.org/doc/stable/reference/generated/numpy.linalg.svd.html), note that it returns $V^T$ instead of $V$).\n",
    "Then, the provided code will compute the mean absolute error (MAE) between the two functions you wrote.\n",
    "(Note: The provided evaluation code will correct for the fact that the two vectors can be the negative of each other singular value decomposition is only unique up to signs).\n",
    "The MAE should be close to machine precision (i.e., it should be less than about `1e-15`).\n",
    "\n",
    "**Note:** This is for testing the correctness of your algorithm.\n",
    "It is often a very good idea to write simple checks of your code as you write it to avoid bugs early on in your development process.\n",
    "Do not worry about efficiency for this exercise. "
   ]
  },
  {
   "cell_type": "code",
   "execution_count": null,
   "metadata": {
    "id": "xhD8BmI_ky8X"
   },
   "outputs": [],
   "source": [
    "def verify_v1(X):\n",
    "  # Compute the top right singular vector using other methods\n",
    "  #  <YOUR CODE>\n",
    "  \n",
    "  \n",
    "\n",
    "\n",
    "# Note here we just pass in the dense 2D array `X`\n",
    "#  which represents the same matrix as `X_sparse`\n",
    "v1_simple = verify_v1(X).squeeze()\n",
    "# Compute a sign corrected difference between the vectors\n",
    "#  (accounting for the fact that SVD is only unique up to signs)\n",
    "diff_sign_corrected = np.sign(v1_yours[0]) * v1_yours - np.sign(v1_simple[0]) * v1_simple\n",
    "mae_corrected = np.mean(np.abs(diff_sign_corrected))\n",
    "print(f'The average absolute difference of the two function output is {mae_corrected}')"
   ]
  },
  {
   "cell_type": "markdown",
   "metadata": {
    "id": "itEKYY_elrdh"
   },
   "source": [
    "### (Optional and ungraded, 0 points) Task 4: Going beyond\n",
    "\n",
    "- In what scenarios we might find the power iteration method useful? \n",
    "  - Google's original ranking algorithm called \"PageRank\" uses a variant of this power iteration on very sparse graphs that represent connections between websites.  See [PageRank](https://en.wikipedia.org/wiki/PageRank).\n",
    "- Can you optimize your algorithm further by avoiding reusing computations?\n",
    "- Below, try your method with a much larger sparse X matrix (maybe 1000 x 1000 with 0.01% nonzeros, i.e. very sparse) and time the difference. For very short code snippets, you can use the `timeit` Python package or just use `time.time()` to capture the start and end times (subtracting them gets you the time in seconds).\n"
   ]
  },
  {
   "cell_type": "code",
   "execution_count": null,
   "metadata": {
    "id": "5Cynda8eq3_t"
   },
   "outputs": [],
   "source": []
  }
 ],
 "metadata": {
  "colab": {
   "authorship_tag": "ABX9TyOWRlYGGbnDNzhzj5uQJ7NK",
   "collapsed_sections": [],
   "name": "Assignment_02_Exercise.ipynb",
   "provenance": []
  },
  "kernelspec": {
   "display_name": "Python 3",
   "language": "python",
   "name": "python3"
  },
  "language_info": {
   "codemirror_mode": {
    "name": "ipython",
    "version": 3
   },
   "file_extension": ".py",
   "mimetype": "text/x-python",
   "name": "python",
   "nbconvert_exporter": "python",
   "pygments_lexer": "ipython3",
   "version": "3.7.3"
  }
 },
 "nbformat": 4,
 "nbformat_minor": 1
}
